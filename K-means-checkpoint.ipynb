{
 "cells": [
  {
   "cell_type": "markdown",
   "metadata": {},
   "source": [
    "Import necessary packages"
   ]
  },
  {
   "cell_type": "code",
   "execution_count": null,
   "metadata": {
    "collapsed": true
   },
   "outputs": [],
   "source": [
    "%matplotlib inline\n",
    "import matplotlib.pyplot as plt\n",
    "import numpy as np\n",
    "import seaborn as sns; sns.set()\n",
    "import pandas as pd"
   ]
  },
  {
   "cell_type": "markdown",
   "metadata": {},
   "source": [
    "Generate some data for clustering"
   ]
  },
  {
   "cell_type": "code",
   "execution_count": 4,
   "metadata": {
    "collapsed": true
   },
   "outputs": [],
   "source": [
    "def generate_data(n_rows):\n",
    "    \"\"\"\n",
    "    2-Dimensional Data preparation for K-Means\n",
    "        :Parameters:\n",
    "      - `n_rows`: number of points\n",
    "\n",
    "        :Returns:\n",
    "      -  Nx2 array, there N is the size of the `training_inputs`.\n",
    "    \"\"\"\n",
    "    data = np.vstack(((np.random.randn(n_rows, 2) * 0.8 + np.array([1, 0])),\n",
    "                  (np.random.randn(np.ceil(n_rows/3), 2) * 0.2 + np.array([-0.5, 0.5])),\n",
    "                  (np.random.randn(np.ceil(n_rows/2), 2) * 0.6 + np.array([-0.5, -0.5]))))\n",
    "    return data"
   ]
  },
  {
   "cell_type": "markdown",
   "metadata": {},
   "source": [
    "There are different methods to initialize centroids , but we have chosen centroids from existing points."
   ]
  },
  {
   "cell_type": "code",
   "execution_count": 5,
   "metadata": {
    "collapsed": true
   },
   "outputs": [],
   "source": [
    "def initialize_centroids(points, k):\n",
    "    \"\"\"returns k random centroids from the initial points\n",
    "        :Parameters:\n",
    "      - `points`: data\n",
    "      - 'k': number of clusters\n",
    "    \"\"\"\n",
    "    centroids = points.copy()\n",
    "    np.random.shuffle(centroids)\n",
    "    return centroids[:k]"
   ]
  },
  {
   "cell_type": "markdown",
   "metadata": {},
   "source": [
    "After we initialize centroids,we have to calculate distance from all points to our centers and find out nearest centroid for each point"
   ]
  },
  {
   "cell_type": "code",
   "execution_count": 6,
   "metadata": {
    "collapsed": true
   },
   "outputs": [],
   "source": [
    "def closest_centroid(points, centroids):\n",
    "    \"\"\"returns an array containing the index to the nearest centroid for each point\n",
    "            :Parameters:\n",
    "      - `points`: data\n",
    "      - `centroids`: k centroids\n",
    "    \"\"\"\n",
    "    code=[None for x in range(len(points))]\n",
    "    min_dist=[None for x in range(len(points))]\n",
    "    for i in range(len(points)):\n",
    "        dist = np.sum((points[i] - centroids) ** 2, 1)\n",
    "        code[i] = np.argmin(dist)\n",
    "        min_dist[i] = dist[code[i]]\n",
    "    return np.asarray(code),np.sum(min_dist)"
   ]
  },
  {
   "cell_type": "markdown",
   "metadata": {},
   "source": [
    "Our next step is calculate new centroids for our clusters."
   ]
  },
  {
   "cell_type": "code",
   "execution_count": 7,
   "metadata": {
    "collapsed": true
   },
   "outputs": [],
   "source": [
    "def move_centroids(points, closest, centroids):\n",
    "    \"\"\"returns the new centroids assigned from the points closest to them\"\"\"\n",
    "    result = np.empty(shape=(len(centroids),) + points.shape[1:])\n",
    "    for i in range(len(centroids)):\n",
    "        result[i]=np.mean([points[closest == i] ], axis = 1)\n",
    "    return result"
   ]
  },
  {
   "cell_type": "markdown",
   "metadata": {},
   "source": [
    "We need to repeat these two steps until convergence"
   ]
  },
  {
   "cell_type": "code",
   "execution_count": 23,
   "metadata": {
    "collapsed": false
   },
   "outputs": [],
   "source": [
    "def k_means(points,centroids,bound):\n",
    "    distance=[]\n",
    "    centroids_f = centroids\n",
    "    for i in range(50):\n",
    "        centr,dist=closest_centroid(points,centroids_f)\n",
    "        centroids_f=move_centroids(points,centr,centroids_f)\n",
    "        distance.append(dist)\n",
    "        if i>1 and distance[i]/distance[i-1] >(1-bound):\n",
    "            last=i\n",
    "            break\n",
    "    return distance[last],centroids_f,last"
   ]
  },
  {
   "cell_type": "markdown",
   "metadata": {},
   "source": [
    "Go on!"
   ]
  },
  {
   "cell_type": "code",
   "execution_count": 32,
   "metadata": {
    "collapsed": false
   },
   "outputs": [
    {
     "name": "stdout",
     "output_type": "stream",
     "text": [
      "There are 4 steps for convergence\n"
     ]
    },
    {
     "name": "stderr",
     "output_type": "stream",
     "text": [
      "C:\\Users\\genrichez\\Anaconda2\\lib\\site-packages\\ipykernel\\__main__.py:11: VisibleDeprecationWarning: using a non-integer number instead of an integer will result in an error in the future\n",
      "C:\\Users\\genrichez\\Anaconda2\\lib\\site-packages\\ipykernel\\__main__.py:12: VisibleDeprecationWarning: using a non-integer number instead of an integer will result in an error in the future\n"
     ]
    }
   ],
   "source": [
    "points=generate_data(100)\n",
    "centroids=initialize_centroids(points,3)\n",
    "dist,centroids1,last=k_means(points,centroids,np.e**(-3))\n",
    "print('There are '+str(last)+' steps for convergence')"
   ]
  },
  {
   "cell_type": "markdown",
   "metadata": {},
   "source": [
    "Let's plot all of this."
   ]
  },
  {
   "cell_type": "code",
   "execution_count": 33,
   "metadata": {
    "collapsed": false
   },
   "outputs": [
    {
     "data": {
      "text/plain": [
       "<matplotlib.collections.PathCollection at 0xcdc01d0>"
      ]
     },
     "execution_count": 33,
     "metadata": {},
     "output_type": "execute_result"
    },
    {
     "data": {
      "text/plain": [
       "<matplotlib.collections.PathCollection at 0xcdc09e8>"
      ]
     },
     "execution_count": 33,
     "metadata": {},
     "output_type": "execute_result"
    },
    {
     "data": {
      "text/plain": [
       "<matplotlib.collections.PathCollection at 0xcdc0fd0>"
      ]
     },
     "execution_count": 33,
     "metadata": {},
     "output_type": "execute_result"
    },
    {
     "data": {
      "image/png": "[encoded data removed]",
      "text/plain": [
       "<matplotlib.figure.Figure at 0xcb3e400>"
      ]
     },
     "metadata": {},
     "output_type": "display_data"
    }
   ],
   "source": [
    "plt.scatter(points[:, 0], points[:, 1])\n",
    "#first centroids\n",
    "plt.scatter(centroids[:, 0], centroids[:, 1], c='r', s=100)\n",
    "#Calculated centroids\n",
    "plt.scatter(centroids1[:, 0], centroids1[:, 1], c='y', s=100)"
   ]
  }
 ],
 "metadata": {
  "kernelspec": {
   "display_name": "Python [conda root]",
   "language": "python",
   "name": "conda-root-py"
  },
  "language_info": {
   "codemirror_mode": {
    "name": "ipython",
    "version": 2
   },
   "file_extension": ".py",
   "mimetype": "text/x-python",
   "name": "python",
   "nbconvert_exporter": "python",
   "pygments_lexer": "ipython2",
   "version": "2.7.12"
  }
 },
 "nbformat": 4,
 "nbformat_minor": 1
}
